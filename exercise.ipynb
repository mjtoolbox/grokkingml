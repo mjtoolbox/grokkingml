{
 "cells": [
  {
   "cell_type": "code",
   "execution_count": 1,
   "id": "4f8f1a2d",
   "metadata": {},
   "outputs": [
    {
     "name": "stdout",
     "output_type": "stream",
     "text": [
      "0.9800000000000001\n"
     ]
    }
   ],
   "source": [
    "import numpy as np\n",
    "weights = np.array([0.1, 0.2, 0])\n",
    "def neural_network(input, weights):\n",
    "    pred = input.dot(weights)\n",
    "    return pred\n",
    "toes = np.array([8.5, 9.5, 9.9, 9.0])\n",
    "wlrec = np.array([0.65, 0.8, 0.8, 0.9])\n",
    "nfans = np.array([1.2, 1.3, 0.5, 1.0])\n",
    "input = np.array([toes[0], wlrec[0], nfans[0]])\n",
    "pred = neural_network(input, weights)\n",
    "print(pred)\n"
   ]
  },
  {
   "cell_type": "code",
   "execution_count": 4,
   "id": "f5df0c67",
   "metadata": {},
   "outputs": [
    {
     "name": "stdout",
     "output_type": "stream",
     "text": [
      "[0.195, 0.13, 0.5850000000000001]\n"
     ]
    }
   ],
   "source": [
    "weights = [0.3, 0.2, 0.9]\n",
    "def ele_mul(number, vector):\n",
    "    output = [0,0,0]\n",
    "    assert(len(output)== len(vector))\n",
    "    for i in range(len(vector)):\n",
    "        output[i] = number * vector[i]\n",
    "    return output\n",
    "def neural_network(input, weights):\n",
    "    pred = ele_mul(input, weights)\n",
    "    return pred\n",
    "wlrec = [0.65, 0.8, 0.8, 0.9]\n",
    "input = wlrec[0]\n",
    "pred = neural_network(input, weights)\n",
    "\n",
    "print(pred)"
   ]
  },
  {
   "cell_type": "code",
   "execution_count": 8,
   "id": "801acd42",
   "metadata": {},
   "outputs": [
    {
     "name": "stdout",
     "output_type": "stream",
     "text": [
      "[0.555, 0.9800000000000001, 0.9650000000000001]\n"
     ]
    }
   ],
   "source": [
    "def w_sum(a,b):\n",
    "    assert(len(a)==len(b))\n",
    "    output=0\n",
    "    for i in range(len(a)):\n",
    "        output += (a[i]*b[i])\n",
    "    return output\n",
    "\n",
    "def vect_mat_mul(vect, matrix):\n",
    "    assert(len(vect)== len(matrix))\n",
    "    output=[0,0,0]\n",
    "    for i in range(len(vect)):\n",
    "        output[i] = w_sum(vect, matrix[i])\n",
    "    return output\n",
    "def neural_network(input, weights):\n",
    "    pred = vect_mat_mul(input, weights)\n",
    "    return pred\n",
    "\n",
    "# outter array is group for prediction, inner array is each input weight\n",
    "weights = [[0.1, 0.1, -0.3], [0.1, 0.2, 0.0], [0.0, 1.3, 0.1]] \n",
    "\n",
    "# input\n",
    "toes = [8.5, 9.5, 9.9, 9.0]\n",
    "wlrec = [0.65, 0.8, 0.8, 0.9]\n",
    "nfans = [1.2, 1.3, 0.5, 1.0]\n",
    "\n",
    "input = [toes[0], wlrec[0], nfans[0]]\n",
    "pred = neural_network(input, weights)\n",
    "print(pred)"
   ]
  },
  {
   "cell_type": "code",
   "execution_count": 10,
   "id": "70f076bb",
   "metadata": {},
   "outputs": [
    {
     "name": "stdout",
     "output_type": "stream",
     "text": [
      "[2.905, 0.9800000000000001, 0.9650000000000001]\n"
     ]
    }
   ],
   "source": [
    "ih_wgt = [[0.1, 0.2, -0.1], [-0.1, 0.1, 0.9], [0.1, 0.4, 0.1]]\n",
    "hp_wgt = [[0.3, 1.1, -0.3], [0.1, 0.2, 0.0], [0.0, 1.3, 0.1]]\n",
    "weights= [ih_wgt, hp_wgt]\n",
    "# input\n",
    "toes = [8.5, 9.5, 9.9, 9.0]\n",
    "wlrec = [0.65, 0.8, 0.8, 0.9]\n",
    "nfans = [1.2, 1.3, 0.5, 1.0]\n",
    "\n",
    "def neural_network(input, weights):\n",
    "    hid = vect_mat_mul(input, weights[0])\n",
    "    pred = vect_mat_mul(input, weights[1])\n",
    "    return pred\n",
    "\n",
    "input = [toes[0], wlrec[0], nfans[0]]\n",
    "pred = neural_network(input, weights)\n",
    "print(pred)"
   ]
  },
  {
   "cell_type": "code",
   "execution_count": 16,
   "id": "f95ea644",
   "metadata": {},
   "outputs": [
    {
     "name": "stdout",
     "output_type": "stream",
     "text": [
      "[array([[ 0.1, -0.1,  0.1],\n",
      "       [ 0.2,  0.1,  0.4],\n",
      "       [-0.1,  0.9,  0.1]]), array([[ 0.3,  0.1,  0. ],\n",
      "       [ 1.1,  0.2,  1.3],\n",
      "       [-0.3,  0. ,  0.1]])]\n",
      "[2.905 0.98  0.965]\n"
     ]
    }
   ],
   "source": [
    "import numpy as np\n",
    "ih_wgt = np.array([[0.1, 0.2, -0.1], [-0.1, 0.1, 0.9], [0.1, 0.4, 0.1]]).T\n",
    "hp_wgt = np.array([[0.3, 1.1, -0.3], [0.1, 0.2, 0.0], [0.0, 1.3, 0.1]]).T\n",
    "weights = [ih_wgt, hp_wgt]\n",
    "\n",
    "print(weights)\n",
    "\n",
    "def neural_network(input, weights):\n",
    "    hid = input.dot(weights[0])\n",
    "    pred = input.dot(weights[1])\n",
    "    return pred\n",
    "\n",
    "# input\n",
    "toes = np.array([8.5, 9.5, 9.9, 9.0])\n",
    "wlrec = np.array([0.65, 0.8, 0.8, 0.9])\n",
    "nfans = np.array([1.2, 1.3, 0.5, 1.0])\n",
    "\n",
    "input = np.array([toes[0], wlrec[0], nfans[0]])\n",
    "pred = neural_network(input, weights)\n",
    "print(pred)"
   ]
  },
  {
   "cell_type": "code",
   "execution_count": 14,
   "id": "168b365d",
   "metadata": {},
   "outputs": [
    {
     "name": "stdout",
     "output_type": "stream",
     "text": [
      "[[ 0.1  0.2 -0.1]\n",
      " [-0.1  0.1  0.9]\n",
      " [ 0.1  0.4  0.1]]\n",
      "[[ 0.1 -0.1  0.1]\n",
      " [ 0.2  0.1  0.4]\n",
      " [-0.1  0.9  0.1]]\n"
     ]
    }
   ],
   "source": [
    "a = np.array([[0.1, 0.2, -0.1], [-0.1, 0.1, 0.9], [0.1, 0.4, 0.1]])\n",
    "print(a)\n",
    "b = np.array([[0.1, 0.2, -0.1], [-0.1, 0.1, 0.9], [0.1, 0.4, 0.1]]).T\n",
    "print(b)"
   ]
  },
  {
   "cell_type": "code",
   "execution_count": null,
   "id": "73535d6d",
   "metadata": {},
   "outputs": [],
   "source": []
  }
 ],
 "metadata": {
  "kernelspec": {
   "display_name": "Python 3 (ipykernel)",
   "language": "python",
   "name": "python3"
  },
  "language_info": {
   "codemirror_mode": {
    "name": "ipython",
    "version": 3
   },
   "file_extension": ".py",
   "mimetype": "text/x-python",
   "name": "python",
   "nbconvert_exporter": "python",
   "pygments_lexer": "ipython3",
   "version": "3.9.13"
  }
 },
 "nbformat": 4,
 "nbformat_minor": 5
}
